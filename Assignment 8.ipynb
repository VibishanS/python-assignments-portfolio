{
 "cells": [
  {
   "cell_type": "code",
   "execution_count": 1,
   "id": "4d4b2465-af19-4493-987a-1f7ee48c255e",
   "metadata": {},
   "outputs": [
    {
     "ename": "IndentationError",
     "evalue": "unexpected indent (1641209120.py, line 13)",
     "output_type": "error",
     "traceback": [
      "\u001b[0;36m  Cell \u001b[0;32mIn[1], line 13\u001b[0;36m\u001b[0m\n\u001b[0;31m    for i in range(num_iterations):     # this will allow us to define the gradient f on the interval (x,y)\u001b[0m\n\u001b[0m    ^\u001b[0m\n\u001b[0;31mIndentationError\u001b[0m\u001b[0;31m:\u001b[0m unexpected indent\n"
     ]
    }
   ],
   "source": [
    "def gradient_descent(x0, y0, f, grad_f, alpha, num_iterations):\n",
    "    \"\"\"\n",
    "    Chosen Paramaters For This Function:\n",
    "        x0, y0: These represent the intial point for the descent of the data\n",
    "        f: this represents the function itself, based on the two given variables x0 and y0\n",
    "        alpa: this represents the learning rate of the function\n",
    "        num_iterations: these are the number (#) of iterations that are needed to perform the function\n",
    "        grad_f: the gradient of the f function\n",
    "    \"\"\"\n",
    "\n",
    "x, y = x0, y0   #Now we have defined the x and y intalized values based on the intial points on 0\n",
    "\n",
    "        for i in range(num_iterations):     # this will allow us to define the gradient f on the interval (x,y)\n",
    "            grad_x, grad_y = grad_f(x, y)\n",
    "\n",
    "        # Now, we need to have placeholder values for x and y, specifically setting functions for the opposite directions of the function\\\n",
    "\n",
    "        x -= alpha * grad_x\n",
    "        y -= alpha * grad_y\n",
    "\n",
    "        return x, y\n",
    "\n",
    "# Now we must define the multivariable function itself using x and y function outputs\n",
    "\n",
    "def fun_1(x,y)\n",
    "        return x**2+y**2\n",
    "\n",
    "def grad_fun1(x, y):\n",
    "        grad_x = 2 * x\n",
    "        grad_y = 2 * y\n",
    "            return grad_x, grad_y\n",
    "\n",
    "# With the function defined and integrated, let's try a test case scenario basde on the provided data\n",
    "\n",
    "x0, y0 = 0.1, 0.1\n",
    "num_iterations = 10\n",
    "alpha = 0.1\n",
    "x_final, y_final = gradient_descent(x0, y0, fun_1, grad_fun1, alpha, num_iterations)\n",
    "    print (f\"Test Case 1, Part B: The Intial Point Exists At = ({x0}, {y0}), Final Point Exists at = ({x_final: .4f}, {y_final: .4f})\")\n",
    "\n",
    "# Now, let's try a secondary test case to test this!\n",
    "\n",
    "x0, y0 = -1, 1\n",
    "num_iterations = 100\n",
    "alpha = 0.01\n",
    "x_final, y_final = gradient_descent(x0, y0, fun_1, grad_fun1, alpha, num_iterations)\n",
    "    print (f\"Test Case 2, Part B: The Intial Point Exists At = ({x0}, {y0}), Final Point Exists at = ({x_final: .4f}, {y_final: .4f})\")\n",
    "\n",
    "import numpy as np\n",
    "\n",
    "#Defining Functions\n",
    "\n",
    "def f2(x, y):\n",
    "        return 1 - np.exp(-x**2 - (y - 2)**2) - 2 * np.exp(-x**2 - (y + 2)**2)\n",
    "\n",
    "def grad_f_2(x, y):\n",
    "    grad_x = 2 * x * np.exp(-x**2 - (y - 2)**2) + 4 * x * np.exp(-x**2 - (y + 2)**2)\n",
    "    grad_y = 2 * (y - 2) * np.exp(-x**2 - (y - 2)**2) + 4 * (y + 2) * np.exp(-x**2 - (y + 2)**2)\n",
    "\n",
    "# Now, let's return to our test trial cases and inset values to finish it off!\n",
    "\n",
    "# First Attempt at Test Case One\n",
    "\n",
    "x0, y0 = 0, 1\n",
    "alpha = 0.01\n",
    "num_iterations = 10000\n",
    "x_final, y_final = gradient_descent(x0, y0, fun_1, grad_fun1, alpha, num_iterations)\n",
    "    print (f\"Test Case 1, Part C: The Intial Point Exists At = ({x0}, {y0}), Final Point Exists at = ({x_final: .4f}, {y_final: .4f})\")\n",
    "\n",
    "# First Attempt at Test Case Two\n",
    "\n",
    "x0, y0 = 0, -1\n",
    "x_final, y_final = gradient_descent(x0, y0, fun_1, grad_fun1, alpha, num_iterations)\n",
    "    print (f\"Test Case 2, Part C: The Intial Point Exists At = ({x0}, {y0}), Final Point Exists at = ({x_final: .4f}, {y_final: .4f})\")\n",
    "\n",
    "print(\" The X value of the final point is equal to the initial point. The value of 0 for both cases can be explained by the decrease in the slope when both initial points have the same max number of iterations and learning rate.\")\n",
    "\n",
    "print(\" The Y value changes by a value of 1 from the intial point to the final point all the way up to values of 2. The starting y-value of -1 however will result in a decrease of 1 to the final pf -2, but results in a +1 for a increase 1 for the final instead)\n",
    "\n",
    "\n",
    "\n"
   ]
  },
  {
   "cell_type": "code",
   "execution_count": 3,
   "id": "d9ecf061-5b9b-4cba-8d2c-677e7f9822ae",
   "metadata": {},
   "outputs": [
    {
     "ename": "ModuleNotFoundError",
     "evalue": "No module named 'mathplotlib'",
     "output_type": "error",
     "traceback": [
      "\u001b[0;31m---------------------------------------------------------------------------\u001b[0m",
      "\u001b[0;31mModuleNotFoundError\u001b[0m                       Traceback (most recent call last)",
      "Cell \u001b[0;32mIn[3], line 4\u001b[0m\n\u001b[1;32m      1\u001b[0m \u001b[38;5;66;03m#GRAPHING \u001b[39;00m\n\u001b[1;32m      3\u001b[0m \u001b[38;5;28;01mimport\u001b[39;00m \u001b[38;5;21;01mnumpy\u001b[39;00m \u001b[38;5;28;01mas\u001b[39;00m \u001b[38;5;21;01mnp\u001b[39;00m\n\u001b[0;32m----> 4\u001b[0m \u001b[38;5;28;01mimport\u001b[39;00m \u001b[38;5;21;01mmathplotlib\u001b[39;00m\u001b[38;5;21;01m.\u001b[39;00m\u001b[38;5;21;01mpyplot\u001b[39;00m \u001b[38;5;28;01mas\u001b[39;00m \u001b[38;5;21;01mplt\u001b[39;00m\n\u001b[1;32m      5\u001b[0m \u001b[38;5;28;01mfrom\u001b[39;00m \u001b[38;5;21;01mmp1_toolkits\u001b[39;00m\u001b[38;5;21;01m.\u001b[39;00m\u001b[38;5;21;01mmplot3d\u001b[39;00m \u001b[38;5;28;01mimport\u001b[39;00m Axes3D\n\u001b[1;32m      7\u001b[0m X \u001b[38;5;241m=\u001b[39m np\u001b[38;5;241m.\u001b[39mlinspace(\u001b[38;5;241m-\u001b[39m\u001b[38;5;241m5\u001b[39m, \u001b[38;5;241m5\u001b[39m, \u001b[38;5;241m100\u001b[39m)\n",
      "\u001b[0;31mModuleNotFoundError\u001b[0m: No module named 'mathplotlib'"
     ]
    }
   ],
   "source": [
    "#GRAPHING \n",
    "\n",
    "import numpy as np\n",
    "import mathplotlib.pyplot as plt\n",
    "from mp1_toolkits.mplot3d import Axes3D\n",
    "\n",
    "X = np.linspace(-5, 5, 100)\n",
    "\n",
    "Y = np.linspace(-5, 5, 100)\n",
    "\n",
    "x, y = np.meshgrid(X,Y)\n",
    "\n",
    "z = f2(x,y)\n",
    "\n",
    "fig = plt.figure()\n",
    "ax = fig.add_subplot(111, projection=\"3d\")\n",
    "ax.plot_surface(x, y, z, cmap=\"viridis\")\n",
    "ax.set_xlabel(\"X\")\n",
    "ax.set_ylabel(\"Y\")\n",
    "ax.set_zlabel(\"f(x,y)\")\n",
    "plt.show()"
   ]
  },
  {
   "cell_type": "code",
   "execution_count": null,
   "id": "85f4e11e-22a6-475e-b2bd-a7012fdfdc15",
   "metadata": {},
   "outputs": [],
   "source": []
  }
 ],
 "metadata": {
  "kernelspec": {
   "display_name": "Python 3 (ipykernel)",
   "language": "python",
   "name": "python3"
  },
  "language_info": {
   "codemirror_mode": {
    "name": "ipython",
    "version": 3
   },
   "file_extension": ".py",
   "mimetype": "text/x-python",
   "name": "python",
   "nbconvert_exporter": "python",
   "pygments_lexer": "ipython3",
   "version": "3.11.4"
  }
 },
 "nbformat": 4,
 "nbformat_minor": 5
}
