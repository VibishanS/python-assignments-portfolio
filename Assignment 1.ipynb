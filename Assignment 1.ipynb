{
 "cells": [
  {
   "cell_type": "code",
   "execution_count": 6,
   "id": "cb7ea84b-e0be-4895-a6c5-f2d6f8eed58a",
   "metadata": {},
   "outputs": [
    {
     "name": "stdin",
     "output_type": "stream",
     "text": [
      "Give me X 1\n"
     ]
    },
    {
     "name": "stdout",
     "output_type": "stream",
     "text": [
      "(1.0, 10001, 9.999000099990002e-05)\n"
     ]
    }
   ],
   "source": [
    "given_number = float(input(\"Give me X\"))\n",
    "\n",
    "def greg(x):\n",
    "    n=0\n",
    "    a=0\n",
    "    error_bound=x**(2*n+1)/(2*n+1)\n",
    "\n",
    "    if x>=0 and x<=1:\n",
    "        while error_bound>0.0001:\n",
    "            n+=1\n",
    "            error_bound=x**(2*n+1)/(2*n+1)\n",
    "\n",
    "        for (i) in range (0, n-1):\n",
    "            a+=((-1)**i*x**(2*i+1))\n",
    "\n",
    "        other_n=2*n+1\n",
    "        return a, other_n,error_bound\n",
    "\n",
    "    else:\n",
    "        print(\"Error!\")\n",
    "\n",
    "print(greg(given_number))"
   ]
  },
  {
   "cell_type": "code",
   "execution_count": null,
   "id": "9fb4c242-1a84-462d-8799-637137ac5835",
   "metadata": {},
   "outputs": [],
   "source": []
  }
 ],
 "metadata": {
  "kernelspec": {
   "display_name": "Python 3 (ipykernel)",
   "language": "python",
   "name": "python3"
  },
  "language_info": {
   "codemirror_mode": {
    "name": "ipython",
    "version": 3
   },
   "file_extension": ".py",
   "mimetype": "text/x-python",
   "name": "python",
   "nbconvert_exporter": "python",
   "pygments_lexer": "ipython3",
   "version": "3.11.4"
  }
 },
 "nbformat": 4,
 "nbformat_minor": 5
}
