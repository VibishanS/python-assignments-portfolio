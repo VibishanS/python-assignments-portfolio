{
 "cells": [
  {
   "cell_type": "code",
   "execution_count": 9,
   "id": "36ca5fb4-dbc1-4871-ac36-c8cfa7cf1b28",
   "metadata": {},
   "outputs": [
    {
     "ename": "TypeError",
     "evalue": "mcmaster() takes 2 positional arguments but 3 were given",
     "output_type": "error",
     "traceback": [
      "\u001b[0;31m---------------------------------------------------------------------------\u001b[0m",
      "\u001b[0;31mTypeError\u001b[0m                                 Traceback (most recent call last)",
      "Cell \u001b[0;32mIn[9], line 32\u001b[0m\n\u001b[1;32m     29\u001b[0m                 \u001b[38;5;28;01mreturn\u001b[39;00m \u001b[38;5;28;01mNone\u001b[39;00m\n\u001b[1;32m     30\u001b[0m         \u001b[38;5;28;01mreturn\u001b[39;00m (p_n \u001b[38;5;241m+\u001b[39m q_n)\u001b[38;5;241m/\u001b[39m\u001b[38;5;241m2\u001b[39m\n\u001b[0;32m---> 32\u001b[0m x \u001b[38;5;241m=\u001b[39m \u001b[43mmcmaster\u001b[49m\u001b[43m \u001b[49m\u001b[43m(\u001b[49m\u001b[43mf\u001b[49m\u001b[43m,\u001b[49m\u001b[43m \u001b[49m\u001b[38;5;241;43m3\u001b[39;49m\u001b[43m,\u001b[49m\u001b[43m \u001b[49m\u001b[38;5;241;43m4\u001b[39;49m\u001b[43m)\u001b[49m\n",
      "\u001b[0;31mTypeError\u001b[0m: mcmaster() takes 2 positional arguments but 3 were given"
     ]
    }
   ],
   "source": [
    "import math\n",
    "\n",
    "\n",
    "def f(x):\n",
    "    return (math.sin(x))/(math.log(x))\n",
    "\n",
    "\n",
    "def mcmaster (p, q):\n",
    "    if f(p) * f(q) >= 0:\n",
    "        print (\"The Bisection Method Fails to Find Such Roots of the Function\")\n",
    "        return None\n",
    "        p_n = p\n",
    "        q_n = q\n",
    "        while abs(q-p)>=10**-10:\n",
    "            m_n = (p_n + q_n)/2\n",
    "            f_m_n = f(m_n)\n",
    "            if f(p_n)*f_m_n < 0:\n",
    "                p_n = p_n\n",
    "                q_n = m_n\n",
    "            elif f(q_n)*f_m_n < 0:\n",
    "                p_n = m_n\n",
    "                q_n = q_n\n",
    "            elif f_m_n == 0:\n",
    "                print (\"Exact Root of Function Found\")\n",
    "                print (m_n)\n",
    "                return m_n\n",
    "            else:\n",
    "                print (\"The Bisection Method Fails to Find Such Roots of the Function\")\n",
    "                return None\n",
    "        return (p_n + q_n)/2\n",
    "\n",
    "x = mcmaster (f, 3, 4)"
   ]
  },
  {
   "cell_type": "code",
   "execution_count": 5,
   "id": "573eeb63-7f5f-438d-9dc2-93fa78512934",
   "metadata": {},
   "outputs": [
    {
     "ename": "NameError",
     "evalue": "name 'mcmaster' is not defined",
     "output_type": "error",
     "traceback": [
      "\u001b[0;31m---------------------------------------------------------------------------\u001b[0m",
      "\u001b[0;31mNameError\u001b[0m                                 Traceback (most recent call last)",
      "Cell \u001b[0;32mIn[5], line 3\u001b[0m\n\u001b[1;32m      1\u001b[0m \u001b[38;5;28;01mdef\u001b[39;00m \u001b[38;5;21mf\u001b[39m(x):\n\u001b[1;32m      2\u001b[0m     \u001b[38;5;28;01mreturn\u001b[39;00m (math\u001b[38;5;241m.\u001b[39msin(x))\u001b[38;5;241m/\u001b[39m(math\u001b[38;5;241m.\u001b[39mlog(x))\n\u001b[0;32m----> 3\u001b[0m x \u001b[38;5;241m=\u001b[39m \u001b[43mmcmaster\u001b[49m(f(x), \u001b[38;5;241m0.0000000000001\u001b[39m, \u001b[38;5;241m1\u001b[39m)\n",
      "\u001b[0;31mNameError\u001b[0m: name 'mcmaster' is not defined"
     ]
    }
   ],
   "source": []
  },
  {
   "cell_type": "code",
   "execution_count": null,
   "id": "b5cc9198-157d-4f40-9780-47fe7d26348d",
   "metadata": {},
   "outputs": [],
   "source": []
  },
  {
   "cell_type": "code",
   "execution_count": null,
   "id": "9ef27803-a286-48b3-bd8a-75c950d25b41",
   "metadata": {},
   "outputs": [],
   "source": []
  }
 ],
 "metadata": {
  "kernelspec": {
   "display_name": "Python 3 (ipykernel)",
   "language": "python",
   "name": "python3"
  },
  "language_info": {
   "codemirror_mode": {
    "name": "ipython",
    "version": 3
   },
   "file_extension": ".py",
   "mimetype": "text/x-python",
   "name": "python",
   "nbconvert_exporter": "python",
   "pygments_lexer": "ipython3",
   "version": "3.11.4"
  }
 },
 "nbformat": 4,
 "nbformat_minor": 5
}
