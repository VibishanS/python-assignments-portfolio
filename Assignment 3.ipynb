{
 "cells": [
  {
   "cell_type": "code",
   "execution_count": 7,
   "id": "f2713c32-4015-48ff-bdd0-ba34301e2904",
   "metadata": {},
   "outputs": [
    {
     "ename": "TypeError",
     "evalue": "unsupported operand type(s) for -: 'float' and 'NoneType'",
     "output_type": "error",
     "traceback": [
      "\u001b[0;31m---------------------------------------------------------------------------\u001b[0m",
      "\u001b[0;31mTypeError\u001b[0m                                 Traceback (most recent call last)",
      "Cell \u001b[0;32mIn[7], line 18\u001b[0m\n\u001b[1;32m     16\u001b[0m \u001b[38;5;28;01mfor\u001b[39;00m i \u001b[38;5;129;01min\u001b[39;00m \u001b[38;5;28mrange\u001b[39m(n):\n\u001b[1;32m     17\u001b[0m     x1\u001b[38;5;241m-\u001b[39m\u001b[38;5;241m=\u001b[39md\n\u001b[0;32m---> 18\u001b[0m     \u001b[38;5;28;01mif\u001b[39;00m \u001b[38;5;28mabs\u001b[39m(\u001b[43mmath\u001b[49m\u001b[43m(\u001b[49m\u001b[43mx1\u001b[49m\u001b[43m)\u001b[49m\u001b[38;5;241;43m-\u001b[39;49m\u001b[43mL\u001b[49m\u001b[43m(\u001b[49m\u001b[43mx1\u001b[49m\u001b[43m)\u001b[49m) \u001b[38;5;241m<\u001b[39m\u001b[38;5;241m=\u001b[39m B:\n\u001b[1;32m     19\u001b[0m         \u001b[38;5;28mprint\u001b[39m (x1)\n\u001b[1;32m     20\u001b[0m         \u001b[38;5;28;01mbreak\u001b[39;00m\n",
      "\u001b[0;31mTypeError\u001b[0m: unsupported operand type(s) for -: 'float' and 'NoneType'"
     ]
    }
   ],
   "source": [
    "def math(x):\n",
    "    return x**2\n",
    "A=1\n",
    "B=0.1\n",
    "\n",
    "n=100\n",
    "x1=A\n",
    "x2=A\n",
    "delx=10**(-8)\n",
    "d=0.00001\n",
    "def mathprime(x):\n",
    "    return (math(x+delx)-math(x-delx))/(2*delx)\n",
    "def L(x):\n",
    "    math(A)+mathprime(A)*(x-A)\n",
    "\n",
    "for i in range(n):\n",
    "    x1-=d\n",
    "    if abs (math(x1)-L(x1)) <= B:\n",
    "        print (x1)\n",
    "        break\n",
    "\n",
    "else:\n",
    "    print (\"Such value for x1 cannot be found\")\n",
    "\n",
    "for i in range(n):\n",
    "    x2+=d\n",
    "    if abs(math(x2)-L(x2)) <= B:\n",
    "        print (x2)\n",
    "        break\n",
    "\n",
    "else:\n",
    "    print (\"Such value for x2 cannot be found\")"
   ]
  },
  {
   "cell_type": "code",
   "execution_count": null,
   "id": "217bc5c1-65a1-4abb-b8a9-ba77c4461a5e",
   "metadata": {},
   "outputs": [],
   "source": []
  }
 ],
 "metadata": {
  "kernelspec": {
   "display_name": "Python 3 (ipykernel)",
   "language": "python",
   "name": "python3"
  },
  "language_info": {
   "codemirror_mode": {
    "name": "ipython",
    "version": 3
   },
   "file_extension": ".py",
   "mimetype": "text/x-python",
   "name": "python",
   "nbconvert_exporter": "python",
   "pygments_lexer": "ipython3",
   "version": "3.11.4"
  }
 },
 "nbformat": 4,
 "nbformat_minor": 5
}
